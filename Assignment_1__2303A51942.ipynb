{
  "nbformat": 4,
  "nbformat_minor": 0,
  "metadata": {
    "colab": {
      "provenance": []
    },
    "kernelspec": {
      "name": "python3",
      "display_name": "Python 3"
    },
    "language_info": {
      "name": "python"
    }
  },
  "cells": [
    {
      "cell_type": "code",
      "execution_count": 1,
      "metadata": {
        "colab": {
          "base_uri": "https://localhost:8080/",
          "height": 921
        },
        "id": "dEy1WqckROEu",
        "outputId": "359decf3-e21b-45e5-d1ed-021c0eb2cb03"
      },
      "outputs": [
        {
          "output_type": "stream",
          "name": "stdout",
          "text": [
            "Value Function (V):\n",
            "[[ -1.39  -0.43   0.63   1.81   3.12]\n",
            " [ -0.43   0.63   1.81   3.12   4.58]\n",
            " [-10.   -10.   -10.     4.58   6.2 ]\n",
            " [  1.81   3.12   4.58   6.2    8.  ]\n",
            " [  3.12   4.58   6.2    8.    10.  ]]\n"
          ]
        },
        {
          "output_type": "display_data",
          "data": {
            "text/plain": [
              "<Figure size 640x480 with 2 Axes>"
            ],
            "image/png": "[encoded data removed]"
          },
          "metadata": {}
        },
        {
          "output_type": "stream",
          "name": "stdout",
          "text": [
            "\n",
            "Value Function with γ=0.5:\n",
            "[[ -1.95  -1.91  -1.81  -1.62  -1.25]\n",
            " [ -1.91  -1.81  -1.62  -1.25  -0.5 ]\n",
            " [ -4.    -6.   -10.    -0.5    1.  ]\n",
            " [ -1.62  -1.25  -0.5    1.     4.  ]\n",
            " [ -1.25  -0.5    1.     4.    10.  ]]\n",
            "\n",
            "Value Function with γ=0.9:\n",
            "[[ -1.39  -0.43   0.63   1.81   3.12]\n",
            " [ -0.43   0.63   1.81   3.12   4.58]\n",
            " [-10.   -10.   -10.     4.58   6.2 ]\n",
            " [  1.81   3.12   4.58   6.2    8.  ]\n",
            " [  3.12   4.58   6.2    8.    10.  ]]\n",
            "\n",
            "Value Function with γ=0.99:\n",
            "[[  1.5    2.53   3.56   4.61   5.67]\n",
            " [  2.53   3.56   4.61   5.67   6.73]\n",
            " [-11.79 -10.9  -10.     6.73   7.81]\n",
            " [  4.61   5.67   6.73   7.81   8.9 ]\n",
            " [  5.67   6.73   7.81   8.9   10.  ]]\n"
          ]
        }
      ],
      "source": [
        "import numpy as np\n",
        "import matplotlib.pyplot as plt\n",
        "\n",
        "# Grid setup\n",
        "N = 5\n",
        "gamma = 0.9\n",
        "goal = (4, 4)\n",
        "pit = (2, 2)\n",
        "\n",
        "# Rewards\n",
        "def reward(state):\n",
        "    if state == goal:\n",
        "        return 10\n",
        "    elif state == pit:\n",
        "        return -10\n",
        "    else:\n",
        "        return -1\n",
        "\n",
        "# Fixed policy: Right if possible else Down\n",
        "def policy(state):\n",
        "    x, y = state\n",
        "    if state == goal or state == pit:\n",
        "        return None  # terminal state\n",
        "    if y < N - 1:  # can move right\n",
        "        return (x, y + 1)\n",
        "    elif x < N - 1:  # else move down\n",
        "        return (x + 1, y)\n",
        "    return state  # stay if no moves possible\n",
        "\n",
        "# Value Iteration under fixed policy\n",
        "def compute_value_function(gamma=0.9, iterations=100):\n",
        "    V = np.zeros((N, N))\n",
        "\n",
        "    for _ in range(iterations):\n",
        "        new_V = np.copy(V)\n",
        "        for i in range(N):\n",
        "            for j in range(N):\n",
        "                state = (i, j)\n",
        "                if state == goal or state == pit:\n",
        "                    new_V[i, j] = reward(state)\n",
        "                else:\n",
        "                    next_state = policy(state)\n",
        "                    new_V[i, j] = reward(state) + gamma * V[next_state]\n",
        "        V = new_V\n",
        "    return V\n",
        "\n",
        "# Compute Value Function\n",
        "V = compute_value_function(gamma)\n",
        "\n",
        "# Display values\n",
        "print(\"Value Function (V):\")\n",
        "print(np.round(V, 2))\n",
        "\n",
        "# Visualization\n",
        "plt.imshow(V, cmap='coolwarm', interpolation='nearest')\n",
        "plt.colorbar(label=\"Value\")\n",
        "plt.title(f\"Value Function Heatmap (γ={gamma})\")\n",
        "plt.show()\n",
        "\n",
        "# Compare with different gammas\n",
        "for g in [0.5, 0.9, 0.99]:\n",
        "    Vg = compute_value_function(g)\n",
        "    print(f\"\\nValue Function with γ={g}:\")\n",
        "    print(np.round(Vg, 2))\n"
      ]
    }
  ]
}